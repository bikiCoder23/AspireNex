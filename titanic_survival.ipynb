{
 "cells": [
  {
   "cell_type": "markdown",
   "id": "905b27a6-364f-4611-9e1a-8e9f6d949eab",
   "metadata": {},
   "source": [
    "## Importing the required libraries"
   ]
  },
  {
   "cell_type": "code",
   "execution_count": 2,
   "id": "7f5bf5cf-f9f6-4f86-bafc-8aed9522da70",
   "metadata": {},
   "outputs": [],
   "source": [
    "import pandas as pd\n",
    "import seaborn as sns\n",
    "import numpy as np\n",
    "import matplotlib.pyplot as plt\n",
    "from sklearn.model_selection import train_test_split\n",
    "from sklearn.impute import SimpleImputer\n",
    "from sklearn.metrics import classification_report\n",
    "import tensorflow as tf\n",
    "from tensorflow.keras.models import Sequential\n",
    "from tensorflow.keras.layers import Dense"
   ]
  },
  {
   "cell_type": "markdown",
   "id": "19e25904-e571-4e66-bf03-6f5c82164883",
   "metadata": {},
   "source": [
    "## Load the Titanic dataset"
   ]
  },
  {
   "cell_type": "code",
   "execution_count": 4,
   "id": "0a70255c-2090-4dd2-8213-8952e8bccfcd",
   "metadata": {},
   "outputs": [
    {
     "data": {
      "text/html": [
       "<div>\n",
       "<style scoped>\n",
       "    .dataframe tbody tr th:only-of-type {\n",
       "        vertical-align: middle;\n",
       "    }\n",
       "\n",
       "    .dataframe tbody tr th {\n",
       "        vertical-align: top;\n",
       "    }\n",
       "\n",
       "    .dataframe thead th {\n",
       "        text-align: right;\n",
       "    }\n",
       "</style>\n",
       "<table border=\"1\" class=\"dataframe\">\n",
       "  <thead>\n",
       "    <tr style=\"text-align: right;\">\n",
       "      <th></th>\n",
       "      <th>PassengerId</th>\n",
       "      <th>Survived</th>\n",
       "      <th>Pclass</th>\n",
       "      <th>Name</th>\n",
       "      <th>Sex</th>\n",
       "      <th>Age</th>\n",
       "      <th>SibSp</th>\n",
       "      <th>Parch</th>\n",
       "      <th>Ticket</th>\n",
       "      <th>Fare</th>\n",
       "      <th>Cabin</th>\n",
       "      <th>Embarked</th>\n",
       "    </tr>\n",
       "  </thead>\n",
       "  <tbody>\n",
       "    <tr>\n",
       "      <th>0</th>\n",
       "      <td>892</td>\n",
       "      <td>0</td>\n",
       "      <td>3</td>\n",
       "      <td>Kelly, Mr. James</td>\n",
       "      <td>male</td>\n",
       "      <td>34.5</td>\n",
       "      <td>0</td>\n",
       "      <td>0</td>\n",
       "      <td>330911</td>\n",
       "      <td>7.8292</td>\n",
       "      <td>NaN</td>\n",
       "      <td>Q</td>\n",
       "    </tr>\n",
       "    <tr>\n",
       "      <th>1</th>\n",
       "      <td>893</td>\n",
       "      <td>1</td>\n",
       "      <td>3</td>\n",
       "      <td>Wilkes, Mrs. James (Ellen Needs)</td>\n",
       "      <td>female</td>\n",
       "      <td>47.0</td>\n",
       "      <td>1</td>\n",
       "      <td>0</td>\n",
       "      <td>363272</td>\n",
       "      <td>7.0000</td>\n",
       "      <td>NaN</td>\n",
       "      <td>S</td>\n",
       "    </tr>\n",
       "    <tr>\n",
       "      <th>2</th>\n",
       "      <td>894</td>\n",
       "      <td>0</td>\n",
       "      <td>2</td>\n",
       "      <td>Myles, Mr. Thomas Francis</td>\n",
       "      <td>male</td>\n",
       "      <td>62.0</td>\n",
       "      <td>0</td>\n",
       "      <td>0</td>\n",
       "      <td>240276</td>\n",
       "      <td>9.6875</td>\n",
       "      <td>NaN</td>\n",
       "      <td>Q</td>\n",
       "    </tr>\n",
       "    <tr>\n",
       "      <th>3</th>\n",
       "      <td>895</td>\n",
       "      <td>0</td>\n",
       "      <td>3</td>\n",
       "      <td>Wirz, Mr. Albert</td>\n",
       "      <td>male</td>\n",
       "      <td>27.0</td>\n",
       "      <td>0</td>\n",
       "      <td>0</td>\n",
       "      <td>315154</td>\n",
       "      <td>8.6625</td>\n",
       "      <td>NaN</td>\n",
       "      <td>S</td>\n",
       "    </tr>\n",
       "    <tr>\n",
       "      <th>4</th>\n",
       "      <td>896</td>\n",
       "      <td>1</td>\n",
       "      <td>3</td>\n",
       "      <td>Hirvonen, Mrs. Alexander (Helga E Lindqvist)</td>\n",
       "      <td>female</td>\n",
       "      <td>22.0</td>\n",
       "      <td>1</td>\n",
       "      <td>1</td>\n",
       "      <td>3101298</td>\n",
       "      <td>12.2875</td>\n",
       "      <td>NaN</td>\n",
       "      <td>S</td>\n",
       "    </tr>\n",
       "    <tr>\n",
       "      <th>...</th>\n",
       "      <td>...</td>\n",
       "      <td>...</td>\n",
       "      <td>...</td>\n",
       "      <td>...</td>\n",
       "      <td>...</td>\n",
       "      <td>...</td>\n",
       "      <td>...</td>\n",
       "      <td>...</td>\n",
       "      <td>...</td>\n",
       "      <td>...</td>\n",
       "      <td>...</td>\n",
       "      <td>...</td>\n",
       "    </tr>\n",
       "    <tr>\n",
       "      <th>413</th>\n",
       "      <td>1305</td>\n",
       "      <td>0</td>\n",
       "      <td>3</td>\n",
       "      <td>Spector, Mr. Woolf</td>\n",
       "      <td>male</td>\n",
       "      <td>NaN</td>\n",
       "      <td>0</td>\n",
       "      <td>0</td>\n",
       "      <td>A.5. 3236</td>\n",
       "      <td>8.0500</td>\n",
       "      <td>NaN</td>\n",
       "      <td>S</td>\n",
       "    </tr>\n",
       "    <tr>\n",
       "      <th>414</th>\n",
       "      <td>1306</td>\n",
       "      <td>1</td>\n",
       "      <td>1</td>\n",
       "      <td>Oliva y Ocana, Dona. Fermina</td>\n",
       "      <td>female</td>\n",
       "      <td>39.0</td>\n",
       "      <td>0</td>\n",
       "      <td>0</td>\n",
       "      <td>PC 17758</td>\n",
       "      <td>108.9000</td>\n",
       "      <td>C105</td>\n",
       "      <td>C</td>\n",
       "    </tr>\n",
       "    <tr>\n",
       "      <th>415</th>\n",
       "      <td>1307</td>\n",
       "      <td>0</td>\n",
       "      <td>3</td>\n",
       "      <td>Saether, Mr. Simon Sivertsen</td>\n",
       "      <td>male</td>\n",
       "      <td>38.5</td>\n",
       "      <td>0</td>\n",
       "      <td>0</td>\n",
       "      <td>SOTON/O.Q. 3101262</td>\n",
       "      <td>7.2500</td>\n",
       "      <td>NaN</td>\n",
       "      <td>S</td>\n",
       "    </tr>\n",
       "    <tr>\n",
       "      <th>416</th>\n",
       "      <td>1308</td>\n",
       "      <td>0</td>\n",
       "      <td>3</td>\n",
       "      <td>Ware, Mr. Frederick</td>\n",
       "      <td>male</td>\n",
       "      <td>NaN</td>\n",
       "      <td>0</td>\n",
       "      <td>0</td>\n",
       "      <td>359309</td>\n",
       "      <td>8.0500</td>\n",
       "      <td>NaN</td>\n",
       "      <td>S</td>\n",
       "    </tr>\n",
       "    <tr>\n",
       "      <th>417</th>\n",
       "      <td>1309</td>\n",
       "      <td>0</td>\n",
       "      <td>3</td>\n",
       "      <td>Peter, Master. Michael J</td>\n",
       "      <td>male</td>\n",
       "      <td>NaN</td>\n",
       "      <td>1</td>\n",
       "      <td>1</td>\n",
       "      <td>2668</td>\n",
       "      <td>22.3583</td>\n",
       "      <td>NaN</td>\n",
       "      <td>C</td>\n",
       "    </tr>\n",
       "  </tbody>\n",
       "</table>\n",
       "<p>418 rows × 12 columns</p>\n",
       "</div>"
      ],
      "text/plain": [
       "     PassengerId  Survived  Pclass  \\\n",
       "0            892         0       3   \n",
       "1            893         1       3   \n",
       "2            894         0       2   \n",
       "3            895         0       3   \n",
       "4            896         1       3   \n",
       "..           ...       ...     ...   \n",
       "413         1305         0       3   \n",
       "414         1306         1       1   \n",
       "415         1307         0       3   \n",
       "416         1308         0       3   \n",
       "417         1309         0       3   \n",
       "\n",
       "                                             Name     Sex   Age  SibSp  Parch  \\\n",
       "0                                Kelly, Mr. James    male  34.5      0      0   \n",
       "1                Wilkes, Mrs. James (Ellen Needs)  female  47.0      1      0   \n",
       "2                       Myles, Mr. Thomas Francis    male  62.0      0      0   \n",
       "3                                Wirz, Mr. Albert    male  27.0      0      0   \n",
       "4    Hirvonen, Mrs. Alexander (Helga E Lindqvist)  female  22.0      1      1   \n",
       "..                                            ...     ...   ...    ...    ...   \n",
       "413                            Spector, Mr. Woolf    male   NaN      0      0   \n",
       "414                  Oliva y Ocana, Dona. Fermina  female  39.0      0      0   \n",
       "415                  Saether, Mr. Simon Sivertsen    male  38.5      0      0   \n",
       "416                           Ware, Mr. Frederick    male   NaN      0      0   \n",
       "417                      Peter, Master. Michael J    male   NaN      1      1   \n",
       "\n",
       "                 Ticket      Fare Cabin Embarked  \n",
       "0                330911    7.8292   NaN        Q  \n",
       "1                363272    7.0000   NaN        S  \n",
       "2                240276    9.6875   NaN        Q  \n",
       "3                315154    8.6625   NaN        S  \n",
       "4               3101298   12.2875   NaN        S  \n",
       "..                  ...       ...   ...      ...  \n",
       "413           A.5. 3236    8.0500   NaN        S  \n",
       "414            PC 17758  108.9000  C105        C  \n",
       "415  SOTON/O.Q. 3101262    7.2500   NaN        S  \n",
       "416              359309    8.0500   NaN        S  \n",
       "417                2668   22.3583   NaN        C  \n",
       "\n",
       "[418 rows x 12 columns]"
      ]
     },
     "execution_count": 4,
     "metadata": {},
     "output_type": "execute_result"
    }
   ],
   "source": [
    "titanic_data = pd.read_csv('titanic.csv')\n",
    "titanic_data"
   ]
  },
  {
   "cell_type": "markdown",
   "id": "d698ca75-d5c6-46f4-8339-5c30a6c5bdbc",
   "metadata": {},
   "source": [
    "## Define the features and targets"
   ]
  },
  {
   "cell_type": "code",
   "execution_count": 6,
   "id": "59b3108c-d8a5-442d-a59c-6464db908d55",
   "metadata": {},
   "outputs": [],
   "source": [
    "features = titanic_data[['Pclass', 'Sex', 'Age', 'SibSp', 'Parch', 'Fare', 'Embarked']].copy()\n",
    "targets = titanic_data['Survived'].copy()"
   ]
  },
  {
   "cell_type": "markdown",
   "id": "4735ab6f-a6ea-4afc-82e0-9c808b108126",
   "metadata": {},
   "source": [
    "## Impute missing values in the age and fare columns using mean imputation"
   ]
  },
  {
   "cell_type": "code",
   "execution_count": 8,
   "id": "11cc099d-93a9-47c0-b5a9-2310ccf80e4b",
   "metadata": {},
   "outputs": [],
   "source": [
    "imputer = SimpleImputer(strategy='mean')\n",
    "features[['Age', 'Fare']] = imputer.fit_transform(features[['Age', 'Fare']])"
   ]
  },
  {
   "cell_type": "markdown",
   "id": "bbed0ba2-a4f7-47a4-9ff0-65f2aebc4f40",
   "metadata": {},
   "source": [
    "## Convert categorical features to numerical using one-hot encoding"
   ]
  },
  {
   "cell_type": "code",
   "execution_count": 10,
   "id": "749d01c3-b998-40da-836e-8b40d8ab3800",
   "metadata": {},
   "outputs": [
    {
     "data": {
      "text/html": [
       "<div>\n",
       "<style scoped>\n",
       "    .dataframe tbody tr th:only-of-type {\n",
       "        vertical-align: middle;\n",
       "    }\n",
       "\n",
       "    .dataframe tbody tr th {\n",
       "        vertical-align: top;\n",
       "    }\n",
       "\n",
       "    .dataframe thead th {\n",
       "        text-align: right;\n",
       "    }\n",
       "</style>\n",
       "<table border=\"1\" class=\"dataframe\">\n",
       "  <thead>\n",
       "    <tr style=\"text-align: right;\">\n",
       "      <th></th>\n",
       "      <th>Age</th>\n",
       "      <th>SibSp</th>\n",
       "      <th>Parch</th>\n",
       "      <th>Fare</th>\n",
       "      <th>Pclass_1</th>\n",
       "      <th>Pclass_2</th>\n",
       "      <th>Pclass_3</th>\n",
       "      <th>Sex_female</th>\n",
       "      <th>Sex_male</th>\n",
       "      <th>Embarked_C</th>\n",
       "      <th>Embarked_Q</th>\n",
       "      <th>Embarked_S</th>\n",
       "    </tr>\n",
       "  </thead>\n",
       "  <tbody>\n",
       "    <tr>\n",
       "      <th>0</th>\n",
       "      <td>34.50000</td>\n",
       "      <td>0</td>\n",
       "      <td>0</td>\n",
       "      <td>7.8292</td>\n",
       "      <td>False</td>\n",
       "      <td>False</td>\n",
       "      <td>True</td>\n",
       "      <td>False</td>\n",
       "      <td>True</td>\n",
       "      <td>False</td>\n",
       "      <td>True</td>\n",
       "      <td>False</td>\n",
       "    </tr>\n",
       "    <tr>\n",
       "      <th>1</th>\n",
       "      <td>47.00000</td>\n",
       "      <td>1</td>\n",
       "      <td>0</td>\n",
       "      <td>7.0000</td>\n",
       "      <td>False</td>\n",
       "      <td>False</td>\n",
       "      <td>True</td>\n",
       "      <td>True</td>\n",
       "      <td>False</td>\n",
       "      <td>False</td>\n",
       "      <td>False</td>\n",
       "      <td>True</td>\n",
       "    </tr>\n",
       "    <tr>\n",
       "      <th>2</th>\n",
       "      <td>62.00000</td>\n",
       "      <td>0</td>\n",
       "      <td>0</td>\n",
       "      <td>9.6875</td>\n",
       "      <td>False</td>\n",
       "      <td>True</td>\n",
       "      <td>False</td>\n",
       "      <td>False</td>\n",
       "      <td>True</td>\n",
       "      <td>False</td>\n",
       "      <td>True</td>\n",
       "      <td>False</td>\n",
       "    </tr>\n",
       "    <tr>\n",
       "      <th>3</th>\n",
       "      <td>27.00000</td>\n",
       "      <td>0</td>\n",
       "      <td>0</td>\n",
       "      <td>8.6625</td>\n",
       "      <td>False</td>\n",
       "      <td>False</td>\n",
       "      <td>True</td>\n",
       "      <td>False</td>\n",
       "      <td>True</td>\n",
       "      <td>False</td>\n",
       "      <td>False</td>\n",
       "      <td>True</td>\n",
       "    </tr>\n",
       "    <tr>\n",
       "      <th>4</th>\n",
       "      <td>22.00000</td>\n",
       "      <td>1</td>\n",
       "      <td>1</td>\n",
       "      <td>12.2875</td>\n",
       "      <td>False</td>\n",
       "      <td>False</td>\n",
       "      <td>True</td>\n",
       "      <td>True</td>\n",
       "      <td>False</td>\n",
       "      <td>False</td>\n",
       "      <td>False</td>\n",
       "      <td>True</td>\n",
       "    </tr>\n",
       "    <tr>\n",
       "      <th>...</th>\n",
       "      <td>...</td>\n",
       "      <td>...</td>\n",
       "      <td>...</td>\n",
       "      <td>...</td>\n",
       "      <td>...</td>\n",
       "      <td>...</td>\n",
       "      <td>...</td>\n",
       "      <td>...</td>\n",
       "      <td>...</td>\n",
       "      <td>...</td>\n",
       "      <td>...</td>\n",
       "      <td>...</td>\n",
       "    </tr>\n",
       "    <tr>\n",
       "      <th>413</th>\n",
       "      <td>30.27259</td>\n",
       "      <td>0</td>\n",
       "      <td>0</td>\n",
       "      <td>8.0500</td>\n",
       "      <td>False</td>\n",
       "      <td>False</td>\n",
       "      <td>True</td>\n",
       "      <td>False</td>\n",
       "      <td>True</td>\n",
       "      <td>False</td>\n",
       "      <td>False</td>\n",
       "      <td>True</td>\n",
       "    </tr>\n",
       "    <tr>\n",
       "      <th>414</th>\n",
       "      <td>39.00000</td>\n",
       "      <td>0</td>\n",
       "      <td>0</td>\n",
       "      <td>108.9000</td>\n",
       "      <td>True</td>\n",
       "      <td>False</td>\n",
       "      <td>False</td>\n",
       "      <td>True</td>\n",
       "      <td>False</td>\n",
       "      <td>True</td>\n",
       "      <td>False</td>\n",
       "      <td>False</td>\n",
       "    </tr>\n",
       "    <tr>\n",
       "      <th>415</th>\n",
       "      <td>38.50000</td>\n",
       "      <td>0</td>\n",
       "      <td>0</td>\n",
       "      <td>7.2500</td>\n",
       "      <td>False</td>\n",
       "      <td>False</td>\n",
       "      <td>True</td>\n",
       "      <td>False</td>\n",
       "      <td>True</td>\n",
       "      <td>False</td>\n",
       "      <td>False</td>\n",
       "      <td>True</td>\n",
       "    </tr>\n",
       "    <tr>\n",
       "      <th>416</th>\n",
       "      <td>30.27259</td>\n",
       "      <td>0</td>\n",
       "      <td>0</td>\n",
       "      <td>8.0500</td>\n",
       "      <td>False</td>\n",
       "      <td>False</td>\n",
       "      <td>True</td>\n",
       "      <td>False</td>\n",
       "      <td>True</td>\n",
       "      <td>False</td>\n",
       "      <td>False</td>\n",
       "      <td>True</td>\n",
       "    </tr>\n",
       "    <tr>\n",
       "      <th>417</th>\n",
       "      <td>30.27259</td>\n",
       "      <td>1</td>\n",
       "      <td>1</td>\n",
       "      <td>22.3583</td>\n",
       "      <td>False</td>\n",
       "      <td>False</td>\n",
       "      <td>True</td>\n",
       "      <td>False</td>\n",
       "      <td>True</td>\n",
       "      <td>True</td>\n",
       "      <td>False</td>\n",
       "      <td>False</td>\n",
       "    </tr>\n",
       "  </tbody>\n",
       "</table>\n",
       "<p>418 rows × 12 columns</p>\n",
       "</div>"
      ],
      "text/plain": [
       "          Age  SibSp  Parch      Fare  Pclass_1  Pclass_2  Pclass_3  \\\n",
       "0    34.50000      0      0    7.8292     False     False      True   \n",
       "1    47.00000      1      0    7.0000     False     False      True   \n",
       "2    62.00000      0      0    9.6875     False      True     False   \n",
       "3    27.00000      0      0    8.6625     False     False      True   \n",
       "4    22.00000      1      1   12.2875     False     False      True   \n",
       "..        ...    ...    ...       ...       ...       ...       ...   \n",
       "413  30.27259      0      0    8.0500     False     False      True   \n",
       "414  39.00000      0      0  108.9000      True     False     False   \n",
       "415  38.50000      0      0    7.2500     False     False      True   \n",
       "416  30.27259      0      0    8.0500     False     False      True   \n",
       "417  30.27259      1      1   22.3583     False     False      True   \n",
       "\n",
       "     Sex_female  Sex_male  Embarked_C  Embarked_Q  Embarked_S  \n",
       "0         False      True       False        True       False  \n",
       "1          True     False       False       False        True  \n",
       "2         False      True       False        True       False  \n",
       "3         False      True       False       False        True  \n",
       "4          True     False       False       False        True  \n",
       "..          ...       ...         ...         ...         ...  \n",
       "413       False      True       False       False        True  \n",
       "414        True     False        True       False       False  \n",
       "415       False      True       False       False        True  \n",
       "416       False      True       False       False        True  \n",
       "417       False      True        True       False       False  \n",
       "\n",
       "[418 rows x 12 columns]"
      ]
     },
     "execution_count": 10,
     "metadata": {},
     "output_type": "execute_result"
    }
   ],
   "source": [
    "features = pd.get_dummies(features, columns=['Pclass', 'Sex', 'Embarked'])\n",
    "features"
   ]
  },
  {
   "cell_type": "markdown",
   "id": "bcd847d1-8835-435a-972b-511d22cd27e6",
   "metadata": {},
   "source": [
    "## Split the data into features and targets"
   ]
  },
  {
   "cell_type": "code",
   "execution_count": 12,
   "id": "bf3bed5c-a9ef-4479-9e46-7d23c4d5e0bf",
   "metadata": {},
   "outputs": [],
   "source": [
    "XS = features.values.astype('float32')\n",
    "YS = targets.values.astype('float32')"
   ]
  },
  {
   "cell_type": "markdown",
   "id": "a8ec73cc-8dc4-4092-ad27-6d3f71498bc1",
   "metadata": {},
   "source": [
    "## Split the data into train and test sets"
   ]
  },
  {
   "cell_type": "code",
   "execution_count": 14,
   "id": "6ce5530e-7528-4d37-9631-65a608668bbd",
   "metadata": {},
   "outputs": [],
   "source": [
    "x_train, x_test, y_train, y_test = train_test_split(XS, YS, test_size=0.125, random_state=42)"
   ]
  },
  {
   "cell_type": "markdown",
   "id": "1ade6913-c64d-4c7f-9aec-8bbf320aa588",
   "metadata": {},
   "source": [
    "## Define the Keras model"
   ]
  },
  {
   "cell_type": "code",
   "execution_count": 16,
   "id": "99410fdb-e3be-47aa-89a6-1561ba27c659",
   "metadata": {},
   "outputs": [
    {
     "name": "stderr",
     "output_type": "stream",
     "text": [
      "C:\\Users\\bikra\\anaconda3\\Lib\\site-packages\\keras\\src\\layers\\core\\dense.py:87: UserWarning: Do not pass an `input_shape`/`input_dim` argument to a layer. When using Sequential models, prefer using an `Input(shape)` object as the first layer in the model instead.\n",
      "  super().__init__(activity_regularizer=activity_regularizer, **kwargs)\n"
     ]
    }
   ],
   "source": [
    "model = Sequential([\n",
    "    Dense(64, activation='relu', input_shape=(x_train.shape[1],)),\n",
    "    Dense(64, activation='relu'),\n",
    "    Dense(1, activation='sigmoid')\n",
    "])"
   ]
  },
  {
   "cell_type": "markdown",
   "id": "e4fb6288-d8e6-43b5-ace0-6557805e64f4",
   "metadata": {},
   "source": [
    "## Compile the model"
   ]
  },
  {
   "cell_type": "code",
   "execution_count": 18,
   "id": "79b0a565-f43e-40a7-813b-4e4da73fa3f9",
   "metadata": {},
   "outputs": [],
   "source": [
    "model.compile(optimizer=tf.keras.optimizers.Adam(learning_rate=0.001),\n",
    "              loss='binary_crossentropy', metrics=['accuracy'])"
   ]
  },
  {
   "cell_type": "markdown",
   "id": "45eb9598-c41a-47bd-888e-96ed56692cd3",
   "metadata": {},
   "source": [
    "## Train the model on the training data"
   ]
  },
  {
   "cell_type": "code",
   "execution_count": 20,
   "id": "7f81e78b-66c0-4a64-bc32-30161ee755c1",
   "metadata": {},
   "outputs": [
    {
     "name": "stdout",
     "output_type": "stream",
     "text": [
      "Epoch 1/50\n",
      "12/12 - 1s - 104ms/step - accuracy: 0.5034 - loss: 1.0557 - val_accuracy: 0.6849 - val_loss: 0.7495\n",
      "Epoch 2/50\n",
      "12/12 - 0s - 6ms/step - accuracy: 0.7021 - loss: 0.6577 - val_accuracy: 0.6849 - val_loss: 0.6870\n",
      "Epoch 3/50\n",
      "12/12 - 0s - 10ms/step - accuracy: 0.7158 - loss: 0.6024 - val_accuracy: 0.7397 - val_loss: 0.6146\n",
      "Epoch 4/50\n",
      "12/12 - 0s - 10ms/step - accuracy: 0.7534 - loss: 0.5478 - val_accuracy: 0.6575 - val_loss: 0.6137\n",
      "Epoch 5/50\n",
      "12/12 - 0s - 10ms/step - accuracy: 0.7842 - loss: 0.5291 - val_accuracy: 0.6712 - val_loss: 0.5801\n",
      "Epoch 6/50\n",
      "12/12 - 0s - 7ms/step - accuracy: 0.7637 - loss: 0.5177 - val_accuracy: 0.6849 - val_loss: 0.6495\n",
      "Epoch 7/50\n",
      "12/12 - 0s - 8ms/step - accuracy: 0.7534 - loss: 0.5460 - val_accuracy: 0.7260 - val_loss: 0.5412\n",
      "Epoch 8/50\n",
      "12/12 - 0s - 10ms/step - accuracy: 0.7260 - loss: 0.5717 - val_accuracy: 0.6575 - val_loss: 0.5764\n",
      "Epoch 9/50\n",
      "12/12 - 0s - 12ms/step - accuracy: 0.7671 - loss: 0.4700 - val_accuracy: 0.6986 - val_loss: 0.5080\n",
      "Epoch 10/50\n",
      "12/12 - 0s - 10ms/step - accuracy: 0.8356 - loss: 0.4156 - val_accuracy: 0.7808 - val_loss: 0.4530\n",
      "Epoch 11/50\n",
      "12/12 - 0s - 10ms/step - accuracy: 0.8356 - loss: 0.4063 - val_accuracy: 0.7397 - val_loss: 0.4253\n",
      "Epoch 12/50\n",
      "12/12 - 0s - 10ms/step - accuracy: 0.9486 - loss: 0.3482 - val_accuracy: 0.8630 - val_loss: 0.3954\n",
      "Epoch 13/50\n",
      "12/12 - 0s - 8ms/step - accuracy: 0.9452 - loss: 0.3133 - val_accuracy: 0.8356 - val_loss: 0.3559\n",
      "Epoch 14/50\n",
      "12/12 - 0s - 8ms/step - accuracy: 0.9521 - loss: 0.2942 - val_accuracy: 0.9041 - val_loss: 0.3230\n",
      "Epoch 15/50\n",
      "12/12 - 0s - 8ms/step - accuracy: 0.9521 - loss: 0.2828 - val_accuracy: 0.8904 - val_loss: 0.3207\n",
      "Epoch 16/50\n",
      "12/12 - 0s - 10ms/step - accuracy: 0.9281 - loss: 0.2937 - val_accuracy: 0.8493 - val_loss: 0.3310\n",
      "Epoch 17/50\n",
      "12/12 - 0s - 7ms/step - accuracy: 0.9418 - loss: 0.2848 - val_accuracy: 0.9863 - val_loss: 0.2159\n",
      "Epoch 18/50\n",
      "12/12 - 0s - 10ms/step - accuracy: 0.9623 - loss: 0.2191 - val_accuracy: 0.9863 - val_loss: 0.1834\n",
      "Epoch 19/50\n",
      "12/12 - 0s - 8ms/step - accuracy: 0.9897 - loss: 0.1624 - val_accuracy: 1.0000 - val_loss: 0.1570\n",
      "Epoch 20/50\n",
      "12/12 - 0s - 6ms/step - accuracy: 0.9966 - loss: 0.1338 - val_accuracy: 1.0000 - val_loss: 0.1428\n",
      "Epoch 21/50\n",
      "12/12 - 0s - 7ms/step - accuracy: 1.0000 - loss: 0.1156 - val_accuracy: 1.0000 - val_loss: 0.1163\n",
      "Epoch 22/50\n",
      "12/12 - 0s - 7ms/step - accuracy: 0.9966 - loss: 0.1030 - val_accuracy: 1.0000 - val_loss: 0.1043\n",
      "Epoch 23/50\n",
      "12/12 - 0s - 8ms/step - accuracy: 1.0000 - loss: 0.0850 - val_accuracy: 1.0000 - val_loss: 0.0924\n",
      "Epoch 24/50\n",
      "12/12 - 0s - 8ms/step - accuracy: 0.9966 - loss: 0.0785 - val_accuracy: 1.0000 - val_loss: 0.0760\n",
      "Epoch 25/50\n",
      "12/12 - 0s - 10ms/step - accuracy: 0.9966 - loss: 0.0653 - val_accuracy: 1.0000 - val_loss: 0.0602\n",
      "Epoch 26/50\n",
      "12/12 - 0s - 7ms/step - accuracy: 0.9932 - loss: 0.0562 - val_accuracy: 1.0000 - val_loss: 0.0548\n",
      "Epoch 27/50\n",
      "12/12 - 0s - 7ms/step - accuracy: 0.9863 - loss: 0.0748 - val_accuracy: 0.9726 - val_loss: 0.0866\n",
      "Epoch 28/50\n",
      "12/12 - 0s - 10ms/step - accuracy: 0.9795 - loss: 0.0824 - val_accuracy: 0.9726 - val_loss: 0.1095\n",
      "Epoch 29/50\n",
      "12/12 - 0s - 11ms/step - accuracy: 0.9795 - loss: 0.0685 - val_accuracy: 0.9726 - val_loss: 0.0729\n",
      "Epoch 30/50\n",
      "12/12 - 0s - 8ms/step - accuracy: 0.9760 - loss: 0.0950 - val_accuracy: 0.9726 - val_loss: 0.0653\n",
      "Epoch 31/50\n",
      "12/12 - 0s - 8ms/step - accuracy: 0.9897 - loss: 0.0619 - val_accuracy: 1.0000 - val_loss: 0.0470\n",
      "Epoch 32/50\n",
      "12/12 - 0s - 10ms/step - accuracy: 0.9897 - loss: 0.0439 - val_accuracy: 1.0000 - val_loss: 0.0428\n",
      "Epoch 33/50\n",
      "12/12 - 0s - 10ms/step - accuracy: 0.9966 - loss: 0.0301 - val_accuracy: 1.0000 - val_loss: 0.0269\n",
      "Epoch 34/50\n",
      "12/12 - 0s - 11ms/step - accuracy: 0.9932 - loss: 0.0241 - val_accuracy: 0.9726 - val_loss: 0.0664\n",
      "Epoch 35/50\n",
      "12/12 - 0s - 10ms/step - accuracy: 0.9932 - loss: 0.0291 - val_accuracy: 1.0000 - val_loss: 0.0189\n",
      "Epoch 36/50\n",
      "12/12 - 0s - 8ms/step - accuracy: 1.0000 - loss: 0.0173 - val_accuracy: 1.0000 - val_loss: 0.0191\n",
      "Epoch 37/50\n",
      "12/12 - 0s - 9ms/step - accuracy: 1.0000 - loss: 0.0152 - val_accuracy: 1.0000 - val_loss: 0.0160\n",
      "Epoch 38/50\n",
      "12/12 - 0s - 9ms/step - accuracy: 1.0000 - loss: 0.0134 - val_accuracy: 1.0000 - val_loss: 0.0175\n",
      "Epoch 39/50\n",
      "12/12 - 0s - 7ms/step - accuracy: 1.0000 - loss: 0.0127 - val_accuracy: 1.0000 - val_loss: 0.0146\n",
      "Epoch 40/50\n",
      "12/12 - 0s - 9ms/step - accuracy: 1.0000 - loss: 0.0118 - val_accuracy: 1.0000 - val_loss: 0.0146\n",
      "Epoch 41/50\n",
      "12/12 - 0s - 8ms/step - accuracy: 1.0000 - loss: 0.0108 - val_accuracy: 1.0000 - val_loss: 0.0135\n",
      "Epoch 42/50\n",
      "12/12 - 0s - 9ms/step - accuracy: 1.0000 - loss: 0.0103 - val_accuracy: 1.0000 - val_loss: 0.0131\n",
      "Epoch 43/50\n",
      "12/12 - 0s - 8ms/step - accuracy: 1.0000 - loss: 0.0094 - val_accuracy: 1.0000 - val_loss: 0.0111\n",
      "Epoch 44/50\n",
      "12/12 - 0s - 10ms/step - accuracy: 1.0000 - loss: 0.0086 - val_accuracy: 1.0000 - val_loss: 0.0115\n",
      "Epoch 45/50\n",
      "12/12 - 0s - 9ms/step - accuracy: 1.0000 - loss: 0.0077 - val_accuracy: 1.0000 - val_loss: 0.0102\n",
      "Epoch 46/50\n",
      "12/12 - 0s - 9ms/step - accuracy: 1.0000 - loss: 0.0075 - val_accuracy: 1.0000 - val_loss: 0.0102\n",
      "Epoch 47/50\n",
      "12/12 - 0s - 8ms/step - accuracy: 1.0000 - loss: 0.0068 - val_accuracy: 1.0000 - val_loss: 0.0104\n",
      "Epoch 48/50\n",
      "12/12 - 0s - 9ms/step - accuracy: 1.0000 - loss: 0.0067 - val_accuracy: 1.0000 - val_loss: 0.0101\n",
      "Epoch 49/50\n",
      "12/12 - 0s - 6ms/step - accuracy: 1.0000 - loss: 0.0061 - val_accuracy: 1.0000 - val_loss: 0.0084\n",
      "Epoch 50/50\n",
      "12/12 - 0s - 9ms/step - accuracy: 1.0000 - loss: 0.0051 - val_accuracy: 1.0000 - val_loss: 0.0072\n"
     ]
    }
   ],
   "source": [
    "history = model.fit(x_train, y_train, epochs=50, validation_split=0.2, batch_size=25, verbose=2)"
   ]
  },
  {
   "cell_type": "markdown",
   "id": "3cf2ea9a-631a-43a3-8973-6e1b7950c155",
   "metadata": {},
   "source": [
    "## Evaluate the model on the testing data"
   ]
  },
  {
   "cell_type": "code",
   "execution_count": 22,
   "id": "07ea2171-24be-4802-ab2c-ebd8c484d107",
   "metadata": {},
   "outputs": [
    {
     "name": "stdout",
     "output_type": "stream",
     "text": [
      "Test accuracy: 1.0\n"
     ]
    }
   ],
   "source": [
    "test_loss, test_acc = model.evaluate(x_test, y_test, verbose=0)\n",
    "print('Test accuracy:', test_acc)"
   ]
  },
  {
   "cell_type": "markdown",
   "id": "dee699c1-f460-4955-bcba-96bd94cbdf8d",
   "metadata": {},
   "source": [
    "## Print the loss and accuracy after each epoch during training"
   ]
  },
  {
   "cell_type": "code",
   "execution_count": 24,
   "id": "8d26cec8-695c-4aca-a8bc-aefe697edd79",
   "metadata": {},
   "outputs": [
    {
     "name": "stdout",
     "output_type": "stream",
     "text": [
      "Epoch 1 accuracy\n",
      "Epoch 2 loss\n",
      "Epoch 3 val_accuracy\n",
      "Epoch 4 val_loss\n"
     ]
    }
   ],
   "source": [
    "for epoch, metrics in enumerate(history.history):\n",
    "    print('Epoch', epoch+1, metrics)"
   ]
  },
  {
   "cell_type": "markdown",
   "id": "6f9e20fd-bc59-4228-a260-fcc894791e01",
   "metadata": {},
   "source": [
    "## Checking loss per epoch"
   ]
  },
  {
   "cell_type": "code",
   "execution_count": 26,
   "id": "e06722bb-9c12-49f0-9574-32142bcf23dd",
   "metadata": {},
   "outputs": [],
   "source": [
    "loss=history.history['loss']\n",
    "validation_loss=history.history['val_loss']"
   ]
  },
  {
   "cell_type": "markdown",
   "id": "04c66add-3549-4868-9324-736443f5e6ca",
   "metadata": {},
   "source": [
    "## Checking overfitting"
   ]
  },
  {
   "cell_type": "code",
   "execution_count": 28,
   "id": "bfabf2f5-0b2a-4c41-9986-1e6ee3632adb",
   "metadata": {},
   "outputs": [
    {
     "data": {
      "image/png": "[encoded data removed]",
      "text/plain": [
       "<Figure size 640x480 with 1 Axes>"
      ]
     },
     "metadata": {},
     "output_type": "display_data"
    }
   ],
   "source": [
    "plt.plot(loss)\n",
    "plt.plot(validation_loss)\n",
    "plt.show()"
   ]
  },
  {
   "cell_type": "markdown",
   "id": "9413d215-6dde-4acf-b329-b68fa503ddef",
   "metadata": {},
   "source": [
    "## Making predictions on the test set"
   ]
  },
  {
   "cell_type": "code",
   "execution_count": 30,
   "id": "d45dc30d-ec48-4b36-9968-6743c59e5fbb",
   "metadata": {},
   "outputs": [
    {
     "name": "stdout",
     "output_type": "stream",
     "text": [
      "\u001b[1m2/2\u001b[0m \u001b[32m━━━━━━━━━━━━━━━━━━━━\u001b[0m\u001b[37m\u001b[0m \u001b[1m0s\u001b[0m 54ms/step\n"
     ]
    }
   ],
   "source": [
    "abs_prediction = model.predict(x_test)\n",
    "prediction = (abs_prediction > 0.5).astype(\"int64\")"
   ]
  },
  {
   "cell_type": "markdown",
   "id": "f3d82ed2-fd21-4a4e-b4ef-00d5b8a2b25c",
   "metadata": {},
   "source": [
    "## Print both the actual test label and predicted value for comparison"
   ]
  },
  {
   "cell_type": "code",
   "execution_count": 32,
   "id": "a3feb59e-3b38-4e67-a157-b0f80c078bef",
   "metadata": {},
   "outputs": [
    {
     "name": "stdout",
     "output_type": "stream",
     "text": [
      "[0 1 0 0 1 0 1 0 1 0 0 1 1 1 0 0 1 0 0 0 0 0 1 0 1 1 1 0 0 0 0 1 1 0 1 0 1\n",
      " 0 1 0 1 1 0 0 0 0 1 1 1 0 0 1 1]\n",
      "[0. 1. 0. 0. 1. 0. 1. 0. 1. 0. 0. 1. 1. 1. 0. 0. 1. 0. 0. 0. 0. 0. 1. 0.\n",
      " 1. 1. 1. 0. 0. 0. 0. 1. 1. 0. 1. 0. 1. 0. 1. 0. 1. 1. 0. 0. 0. 0. 1. 1.\n",
      " 1. 0. 0. 1. 1.]\n"
     ]
    }
   ],
   "source": [
    "print(prediction.flatten())\n",
    "print(y_test)"
   ]
  },
  {
   "cell_type": "markdown",
   "id": "e6638431-6101-469c-bbdd-2bb51f29aed1",
   "metadata": {},
   "source": [
    "## Creating a prediction function"
   ]
  },
  {
   "cell_type": "code",
   "execution_count": 34,
   "id": "1242cef3-1b3e-43be-b7bc-c4482f5c550e",
   "metadata": {},
   "outputs": [],
   "source": [
    "def neural_net_predictions(model, x):\n",
    "  return (model.predict(x).flatten() > 0.5).astype(int)"
   ]
  },
  {
   "cell_type": "markdown",
   "id": "e7b9b57b-c59a-4804-af9e-7c3ebde45969",
   "metadata": {},
   "source": [
    "## Classification report of the Squential network model"
   ]
  },
  {
   "cell_type": "code",
   "execution_count": 36,
   "id": "50d6df31-9307-49d4-8127-5208232b01a7",
   "metadata": {},
   "outputs": [
    {
     "name": "stdout",
     "output_type": "stream",
     "text": [
      "\u001b[1m2/2\u001b[0m \u001b[32m━━━━━━━━━━━━━━━━━━━━\u001b[0m\u001b[37m\u001b[0m \u001b[1m0s\u001b[0m 2ms/step \n",
      "              precision    recall  f1-score   support\n",
      "\n",
      "Not Survived       1.00      1.00      1.00        29\n",
      "    Survived       1.00      1.00      1.00        24\n",
      "\n",
      "    accuracy                           1.00        53\n",
      "   macro avg       1.00      1.00      1.00        53\n",
      "weighted avg       1.00      1.00      1.00        53\n",
      "\n"
     ]
    }
   ],
   "source": [
    "print(classification_report(y_test, neural_net_predictions(model, x_test), target_names=['Not Survived', 'Survived']))"
   ]
  },
  {
   "cell_type": "markdown",
   "id": "b2616eb9-406e-4b76-939b-3b07e05a9c36",
   "metadata": {},
   "source": [
    "## Predicting for a random instance"
   ]
  },
  {
   "cell_type": "code",
   "execution_count": 38,
   "id": "04630a09-23af-4c77-a980-f8441e9ef0f5",
   "metadata": {},
   "outputs": [],
   "source": [
    "instance = {'Age':27, \n",
    "            'SibSp':1, \n",
    "            'Parch':2, \n",
    "            'Fare':52, \n",
    "            'Pclass_1':False,\n",
    "            'Pclass_2':True,\n",
    "            'Pclass_3':False, \n",
    "            'Sex_female':True,\n",
    "            'Sex_male':False,\n",
    "            'Embarked_C':False,\t\n",
    "            'Embarked_Q':False,\t\n",
    "            'Embarked_S':True}"
   ]
  },
  {
   "cell_type": "code",
   "execution_count": 39,
   "id": "4c7b206a-855f-4a8a-a2fa-ce46f56a4bcd",
   "metadata": {},
   "outputs": [],
   "source": [
    "instance_df = pd.DataFrame([instance])\n",
    "instance_df = instance_df.astype(int)"
   ]
  },
  {
   "cell_type": "code",
   "execution_count": 40,
   "id": "f3ff2a70-007b-415c-a813-8f2176b9bc36",
   "metadata": {},
   "outputs": [
    {
     "name": "stdout",
     "output_type": "stream",
     "text": [
      "\u001b[1m1/1\u001b[0m \u001b[32m━━━━━━━━━━━━━━━━━━━━\u001b[0m\u001b[37m\u001b[0m \u001b[1m0s\u001b[0m 57ms/step\n",
      "Absolute Predicted: 0.9844430088996887\n",
      "Prediction: 1\n"
     ]
    }
   ],
   "source": [
    "abs_prediction = model.predict(instance_df)\n",
    "prediction = (abs_prediction.flatten() > 0.5).astype(int)\n",
    "print(f'Absolute Predicted: {abs_prediction[0][0]}')\n",
    "print(f'Prediction: {prediction[0]}')"
   ]
  }
 ],
 "metadata": {
  "kernelspec": {
   "display_name": "Python 3 (ipykernel)",
   "language": "python",
   "name": "python3"
  },
  "language_info": {
   "codemirror_mode": {
    "name": "ipython",
    "version": 3
   },
   "file_extension": ".py",
   "mimetype": "text/x-python",
   "name": "python",
   "nbconvert_exporter": "python",
   "pygments_lexer": "ipython3",
   "version": "3.11.7"
  }
 },
 "nbformat": 4,
 "nbformat_minor": 5
}
