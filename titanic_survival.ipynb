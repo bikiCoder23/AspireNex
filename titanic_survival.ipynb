{
 "cells": [
  {
   "cell_type": "markdown",
   "id": "905b27a6-364f-4611-9e1a-8e9f6d949eab",
   "metadata": {},
   "source": [
    "## Importing the required libraries"
   ]
  },
  {
   "cell_type": "code",
   "execution_count": 2,
   "id": "7f5bf5cf-f9f6-4f86-bafc-8aed9522da70",
   "metadata": {},
   "outputs": [],
   "source": [
    "import pandas as pd\n",
    "import seaborn as sns\n",
    "import numpy as np\n",
    "import matplotlib.pyplot as plt\n",
    "from sklearn.model_selection import train_test_split\n",
    "from sklearn.impute import SimpleImputer\n",
    "import tensorflow as tf\n",
    "from tensorflow.keras.models import Sequential\n",
    "from tensorflow.keras.layers import Dense"
   ]
  },
  {
   "cell_type": "markdown",
   "id": "19e25904-e571-4e66-bf03-6f5c82164883",
   "metadata": {},
   "source": [
    "## Load the Titanic dataset"
   ]
  },
  {
   "cell_type": "code",
   "execution_count": 4,
   "id": "0a70255c-2090-4dd2-8213-8952e8bccfcd",
   "metadata": {},
   "outputs": [
    {
     "data": {
      "text/html": [
       "<div>\n",
       "<style scoped>\n",
       "    .dataframe tbody tr th:only-of-type {\n",
       "        vertical-align: middle;\n",
       "    }\n",
       "\n",
       "    .dataframe tbody tr th {\n",
       "        vertical-align: top;\n",
       "    }\n",
       "\n",
       "    .dataframe thead th {\n",
       "        text-align: right;\n",
       "    }\n",
       "</style>\n",
       "<table border=\"1\" class=\"dataframe\">\n",
       "  <thead>\n",
       "    <tr style=\"text-align: right;\">\n",
       "      <th></th>\n",
       "      <th>PassengerId</th>\n",
       "      <th>Survived</th>\n",
       "      <th>Pclass</th>\n",
       "      <th>Name</th>\n",
       "      <th>Sex</th>\n",
       "      <th>Age</th>\n",
       "      <th>SibSp</th>\n",
       "      <th>Parch</th>\n",
       "      <th>Ticket</th>\n",
       "      <th>Fare</th>\n",
       "      <th>Cabin</th>\n",
       "      <th>Embarked</th>\n",
       "    </tr>\n",
       "  </thead>\n",
       "  <tbody>\n",
       "    <tr>\n",
       "      <th>0</th>\n",
       "      <td>892</td>\n",
       "      <td>0</td>\n",
       "      <td>3</td>\n",
       "      <td>Kelly, Mr. James</td>\n",
       "      <td>male</td>\n",
       "      <td>34.5</td>\n",
       "      <td>0</td>\n",
       "      <td>0</td>\n",
       "      <td>330911</td>\n",
       "      <td>7.8292</td>\n",
       "      <td>NaN</td>\n",
       "      <td>Q</td>\n",
       "    </tr>\n",
       "    <tr>\n",
       "      <th>1</th>\n",
       "      <td>893</td>\n",
       "      <td>1</td>\n",
       "      <td>3</td>\n",
       "      <td>Wilkes, Mrs. James (Ellen Needs)</td>\n",
       "      <td>female</td>\n",
       "      <td>47.0</td>\n",
       "      <td>1</td>\n",
       "      <td>0</td>\n",
       "      <td>363272</td>\n",
       "      <td>7.0000</td>\n",
       "      <td>NaN</td>\n",
       "      <td>S</td>\n",
       "    </tr>\n",
       "    <tr>\n",
       "      <th>2</th>\n",
       "      <td>894</td>\n",
       "      <td>0</td>\n",
       "      <td>2</td>\n",
       "      <td>Myles, Mr. Thomas Francis</td>\n",
       "      <td>male</td>\n",
       "      <td>62.0</td>\n",
       "      <td>0</td>\n",
       "      <td>0</td>\n",
       "      <td>240276</td>\n",
       "      <td>9.6875</td>\n",
       "      <td>NaN</td>\n",
       "      <td>Q</td>\n",
       "    </tr>\n",
       "    <tr>\n",
       "      <th>3</th>\n",
       "      <td>895</td>\n",
       "      <td>0</td>\n",
       "      <td>3</td>\n",
       "      <td>Wirz, Mr. Albert</td>\n",
       "      <td>male</td>\n",
       "      <td>27.0</td>\n",
       "      <td>0</td>\n",
       "      <td>0</td>\n",
       "      <td>315154</td>\n",
       "      <td>8.6625</td>\n",
       "      <td>NaN</td>\n",
       "      <td>S</td>\n",
       "    </tr>\n",
       "    <tr>\n",
       "      <th>4</th>\n",
       "      <td>896</td>\n",
       "      <td>1</td>\n",
       "      <td>3</td>\n",
       "      <td>Hirvonen, Mrs. Alexander (Helga E Lindqvist)</td>\n",
       "      <td>female</td>\n",
       "      <td>22.0</td>\n",
       "      <td>1</td>\n",
       "      <td>1</td>\n",
       "      <td>3101298</td>\n",
       "      <td>12.2875</td>\n",
       "      <td>NaN</td>\n",
       "      <td>S</td>\n",
       "    </tr>\n",
       "    <tr>\n",
       "      <th>...</th>\n",
       "      <td>...</td>\n",
       "      <td>...</td>\n",
       "      <td>...</td>\n",
       "      <td>...</td>\n",
       "      <td>...</td>\n",
       "      <td>...</td>\n",
       "      <td>...</td>\n",
       "      <td>...</td>\n",
       "      <td>...</td>\n",
       "      <td>...</td>\n",
       "      <td>...</td>\n",
       "      <td>...</td>\n",
       "    </tr>\n",
       "    <tr>\n",
       "      <th>413</th>\n",
       "      <td>1305</td>\n",
       "      <td>0</td>\n",
       "      <td>3</td>\n",
       "      <td>Spector, Mr. Woolf</td>\n",
       "      <td>male</td>\n",
       "      <td>NaN</td>\n",
       "      <td>0</td>\n",
       "      <td>0</td>\n",
       "      <td>A.5. 3236</td>\n",
       "      <td>8.0500</td>\n",
       "      <td>NaN</td>\n",
       "      <td>S</td>\n",
       "    </tr>\n",
       "    <tr>\n",
       "      <th>414</th>\n",
       "      <td>1306</td>\n",
       "      <td>1</td>\n",
       "      <td>1</td>\n",
       "      <td>Oliva y Ocana, Dona. Fermina</td>\n",
       "      <td>female</td>\n",
       "      <td>39.0</td>\n",
       "      <td>0</td>\n",
       "      <td>0</td>\n",
       "      <td>PC 17758</td>\n",
       "      <td>108.9000</td>\n",
       "      <td>C105</td>\n",
       "      <td>C</td>\n",
       "    </tr>\n",
       "    <tr>\n",
       "      <th>415</th>\n",
       "      <td>1307</td>\n",
       "      <td>0</td>\n",
       "      <td>3</td>\n",
       "      <td>Saether, Mr. Simon Sivertsen</td>\n",
       "      <td>male</td>\n",
       "      <td>38.5</td>\n",
       "      <td>0</td>\n",
       "      <td>0</td>\n",
       "      <td>SOTON/O.Q. 3101262</td>\n",
       "      <td>7.2500</td>\n",
       "      <td>NaN</td>\n",
       "      <td>S</td>\n",
       "    </tr>\n",
       "    <tr>\n",
       "      <th>416</th>\n",
       "      <td>1308</td>\n",
       "      <td>0</td>\n",
       "      <td>3</td>\n",
       "      <td>Ware, Mr. Frederick</td>\n",
       "      <td>male</td>\n",
       "      <td>NaN</td>\n",
       "      <td>0</td>\n",
       "      <td>0</td>\n",
       "      <td>359309</td>\n",
       "      <td>8.0500</td>\n",
       "      <td>NaN</td>\n",
       "      <td>S</td>\n",
       "    </tr>\n",
       "    <tr>\n",
       "      <th>417</th>\n",
       "      <td>1309</td>\n",
       "      <td>0</td>\n",
       "      <td>3</td>\n",
       "      <td>Peter, Master. Michael J</td>\n",
       "      <td>male</td>\n",
       "      <td>NaN</td>\n",
       "      <td>1</td>\n",
       "      <td>1</td>\n",
       "      <td>2668</td>\n",
       "      <td>22.3583</td>\n",
       "      <td>NaN</td>\n",
       "      <td>C</td>\n",
       "    </tr>\n",
       "  </tbody>\n",
       "</table>\n",
       "<p>418 rows × 12 columns</p>\n",
       "</div>"
      ],
      "text/plain": [
       "     PassengerId  Survived  Pclass  \\\n",
       "0            892         0       3   \n",
       "1            893         1       3   \n",
       "2            894         0       2   \n",
       "3            895         0       3   \n",
       "4            896         1       3   \n",
       "..           ...       ...     ...   \n",
       "413         1305         0       3   \n",
       "414         1306         1       1   \n",
       "415         1307         0       3   \n",
       "416         1308         0       3   \n",
       "417         1309         0       3   \n",
       "\n",
       "                                             Name     Sex   Age  SibSp  Parch  \\\n",
       "0                                Kelly, Mr. James    male  34.5      0      0   \n",
       "1                Wilkes, Mrs. James (Ellen Needs)  female  47.0      1      0   \n",
       "2                       Myles, Mr. Thomas Francis    male  62.0      0      0   \n",
       "3                                Wirz, Mr. Albert    male  27.0      0      0   \n",
       "4    Hirvonen, Mrs. Alexander (Helga E Lindqvist)  female  22.0      1      1   \n",
       "..                                            ...     ...   ...    ...    ...   \n",
       "413                            Spector, Mr. Woolf    male   NaN      0      0   \n",
       "414                  Oliva y Ocana, Dona. Fermina  female  39.0      0      0   \n",
       "415                  Saether, Mr. Simon Sivertsen    male  38.5      0      0   \n",
       "416                           Ware, Mr. Frederick    male   NaN      0      0   \n",
       "417                      Peter, Master. Michael J    male   NaN      1      1   \n",
       "\n",
       "                 Ticket      Fare Cabin Embarked  \n",
       "0                330911    7.8292   NaN        Q  \n",
       "1                363272    7.0000   NaN        S  \n",
       "2                240276    9.6875   NaN        Q  \n",
       "3                315154    8.6625   NaN        S  \n",
       "4               3101298   12.2875   NaN        S  \n",
       "..                  ...       ...   ...      ...  \n",
       "413           A.5. 3236    8.0500   NaN        S  \n",
       "414            PC 17758  108.9000  C105        C  \n",
       "415  SOTON/O.Q. 3101262    7.2500   NaN        S  \n",
       "416              359309    8.0500   NaN        S  \n",
       "417                2668   22.3583   NaN        C  \n",
       "\n",
       "[418 rows x 12 columns]"
      ]
     },
     "execution_count": 4,
     "metadata": {},
     "output_type": "execute_result"
    }
   ],
   "source": [
    "titanic_data = pd.read_csv('titanic.csv')\n",
    "titanic_data"
   ]
  },
  {
   "cell_type": "markdown",
   "id": "d698ca75-d5c6-46f4-8339-5c30a6c5bdbc",
   "metadata": {},
   "source": [
    "## Define the features and targets"
   ]
  },
  {
   "cell_type": "code",
   "execution_count": 6,
   "id": "59b3108c-d8a5-442d-a59c-6464db908d55",
   "metadata": {},
   "outputs": [],
   "source": [
    "features = titanic_data[['Pclass', 'Sex', 'Age', 'SibSp', 'Parch', 'Fare', 'Embarked']].copy()\n",
    "targets = titanic_data['Survived'].copy()"
   ]
  },
  {
   "cell_type": "markdown",
   "id": "4735ab6f-a6ea-4afc-82e0-9c808b108126",
   "metadata": {},
   "source": [
    "## Impute missing values in the age and fare columns using mean imputation"
   ]
  },
  {
   "cell_type": "code",
   "execution_count": 8,
   "id": "11cc099d-93a9-47c0-b5a9-2310ccf80e4b",
   "metadata": {},
   "outputs": [],
   "source": [
    "imputer = SimpleImputer(strategy='mean')\n",
    "features[['Age', 'Fare']] = imputer.fit_transform(features[['Age', 'Fare']])"
   ]
  },
  {
   "cell_type": "markdown",
   "id": "bbed0ba2-a4f7-47a4-9ff0-65f2aebc4f40",
   "metadata": {},
   "source": [
    "## Convert categorical features to numerical using one-hot encoding"
   ]
  },
  {
   "cell_type": "code",
   "execution_count": 10,
   "id": "749d01c3-b998-40da-836e-8b40d8ab3800",
   "metadata": {},
   "outputs": [],
   "source": [
    "features = pd.get_dummies(features, columns=['Pclass', 'Sex', 'Embarked'])"
   ]
  },
  {
   "cell_type": "markdown",
   "id": "bcd847d1-8835-435a-972b-511d22cd27e6",
   "metadata": {},
   "source": [
    "## Split the data into features and targets"
   ]
  },
  {
   "cell_type": "code",
   "execution_count": 12,
   "id": "bf3bed5c-a9ef-4479-9e46-7d23c4d5e0bf",
   "metadata": {},
   "outputs": [],
   "source": [
    "XS = features.values.astype('float32')\n",
    "YS = targets.values.astype('float32')"
   ]
  },
  {
   "cell_type": "markdown",
   "id": "a8ec73cc-8dc4-4092-ad27-6d3f71498bc1",
   "metadata": {},
   "source": [
    "## Split the data into train and test sets"
   ]
  },
  {
   "cell_type": "code",
   "execution_count": 14,
   "id": "6ce5530e-7528-4d37-9631-65a608668bbd",
   "metadata": {},
   "outputs": [],
   "source": [
    "x_train, x_test, y_train, y_test = train_test_split(XS, YS, test_size=0.125, random_state=42)"
   ]
  },
  {
   "cell_type": "markdown",
   "id": "1ade6913-c64d-4c7f-9aec-8bbf320aa588",
   "metadata": {},
   "source": [
    "## Define the Keras model"
   ]
  },
  {
   "cell_type": "code",
   "execution_count": 16,
   "id": "99410fdb-e3be-47aa-89a6-1561ba27c659",
   "metadata": {},
   "outputs": [
    {
     "name": "stderr",
     "output_type": "stream",
     "text": [
      "C:\\Users\\bikra\\anaconda3\\Lib\\site-packages\\keras\\src\\layers\\core\\dense.py:87: UserWarning: Do not pass an `input_shape`/`input_dim` argument to a layer. When using Sequential models, prefer using an `Input(shape)` object as the first layer in the model instead.\n",
      "  super().__init__(activity_regularizer=activity_regularizer, **kwargs)\n"
     ]
    }
   ],
   "source": [
    "model = Sequential([\n",
    "    Dense(64, activation='relu', input_shape=(x_train.shape[1],)),\n",
    "    Dense(64, activation='relu'),\n",
    "    Dense(1, activation='sigmoid')\n",
    "])"
   ]
  },
  {
   "cell_type": "markdown",
   "id": "e4fb6288-d8e6-43b5-ace0-6557805e64f4",
   "metadata": {},
   "source": [
    "## Compile the model"
   ]
  },
  {
   "cell_type": "code",
   "execution_count": 18,
   "id": "79b0a565-f43e-40a7-813b-4e4da73fa3f9",
   "metadata": {},
   "outputs": [],
   "source": [
    "model.compile(optimizer=tf.keras.optimizers.Adam(learning_rate=0.001),\n",
    "              loss='binary_crossentropy', metrics=['accuracy'])"
   ]
  },
  {
   "cell_type": "markdown",
   "id": "45eb9598-c41a-47bd-888e-96ed56692cd3",
   "metadata": {},
   "source": [
    "## Train the model on the training data"
   ]
  },
  {
   "cell_type": "code",
   "execution_count": null,
   "id": "7f81e78b-66c0-4a64-bc32-30161ee755c1",
   "metadata": {},
   "outputs": [
    {
     "name": "stdout",
     "output_type": "stream",
     "text": [
      "Epoch 1/50\n",
      "12/12 - 4s - 357ms/step - accuracy: 0.6678 - loss: 0.9858 - val_accuracy: 0.6575 - val_loss: 0.6228\n",
      "Epoch 2/50\n",
      "12/12 - 0s - 12ms/step - accuracy: 0.6747 - loss: 0.5720 - val_accuracy: 0.6575 - val_loss: 0.5992\n",
      "Epoch 3/50\n",
      "12/12 - 0s - 13ms/step - accuracy: 0.7500 - loss: 0.5180 - val_accuracy: 0.6438 - val_loss: 0.6346\n",
      "Epoch 4/50\n",
      "12/12 - 0s - 12ms/step - accuracy: 0.6986 - loss: 0.5408 - val_accuracy: 0.6712 - val_loss: 0.5145\n",
      "Epoch 5/50\n",
      "12/12 - 0s - 12ms/step - accuracy: 0.8185 - loss: 0.4517 - val_accuracy: 0.7808 - val_loss: 0.4527\n",
      "Epoch 6/50\n",
      "12/12 - 0s - 13ms/step - accuracy: 0.8699 - loss: 0.4020 - val_accuracy: 0.8219 - val_loss: 0.4104\n",
      "Epoch 7/50\n",
      "12/12 - 0s - 13ms/step - accuracy: 0.8836 - loss: 0.3757 - val_accuracy: 0.8767 - val_loss: 0.4050\n",
      "Epoch 8/50\n",
      "12/12 - 0s - 13ms/step - accuracy: 0.9623 - loss: 0.3325 - val_accuracy: 0.9178 - val_loss: 0.3701\n",
      "Epoch 9/50\n",
      "12/12 - 0s - 14ms/step - accuracy: 0.9452 - loss: 0.3147 - val_accuracy: 0.9589 - val_loss: 0.3253\n",
      "Epoch 10/50\n",
      "12/12 - 0s - 16ms/step - accuracy: 0.9760 - loss: 0.2691 - val_accuracy: 0.9726 - val_loss: 0.2756\n",
      "Epoch 11/50\n",
      "12/12 - 0s - 15ms/step - accuracy: 0.9555 - loss: 0.2571 - val_accuracy: 0.9726 - val_loss: 0.2442\n",
      "Epoch 12/50\n",
      "12/12 - 0s - 15ms/step - accuracy: 0.9863 - loss: 0.2030 - val_accuracy: 0.9726 - val_loss: 0.2059\n",
      "Epoch 13/50\n",
      "12/12 - 0s - 14ms/step - accuracy: 0.9795 - loss: 0.1874 - val_accuracy: 0.9315 - val_loss: 0.2300\n",
      "Epoch 14/50\n",
      "12/12 - 0s - 14ms/step - accuracy: 0.9897 - loss: 0.1629 - val_accuracy: 1.0000 - val_loss: 0.1550\n",
      "Epoch 15/50\n",
      "12/12 - 0s - 14ms/step - accuracy: 0.9863 - loss: 0.1460 - val_accuracy: 0.9452 - val_loss: 0.1647\n",
      "Epoch 16/50\n",
      "12/12 - 0s - 14ms/step - accuracy: 0.9555 - loss: 0.1933 - val_accuracy: 0.9315 - val_loss: 0.2519\n",
      "Epoch 17/50\n",
      "12/12 - 0s - 15ms/step - accuracy: 0.9521 - loss: 0.1872 - val_accuracy: 0.9041 - val_loss: 0.2515\n",
      "Epoch 18/50\n",
      "12/12 - 0s - 15ms/step - accuracy: 0.9863 - loss: 0.1310 - val_accuracy: 0.9589 - val_loss: 0.1267\n",
      "Epoch 19/50\n",
      "12/12 - 0s - 14ms/step - accuracy: 0.9863 - loss: 0.1181 - val_accuracy: 1.0000 - val_loss: 0.0886\n",
      "Epoch 20/50\n",
      "12/12 - 0s - 14ms/step - accuracy: 0.9966 - loss: 0.0813 - val_accuracy: 0.9726 - val_loss: 0.1081\n",
      "Epoch 21/50\n",
      "12/12 - 0s - 14ms/step - accuracy: 0.9966 - loss: 0.0743 - val_accuracy: 1.0000 - val_loss: 0.0610\n",
      "Epoch 22/50\n",
      "12/12 - 0s - 13ms/step - accuracy: 0.9966 - loss: 0.0604 - val_accuracy: 1.0000 - val_loss: 0.0522\n",
      "Epoch 23/50\n",
      "12/12 - 0s - 14ms/step - accuracy: 0.9863 - loss: 0.0815 - val_accuracy: 0.9863 - val_loss: 0.0697\n",
      "Epoch 24/50\n",
      "12/12 - 0s - 15ms/step - accuracy: 0.9966 - loss: 0.0506 - val_accuracy: 1.0000 - val_loss: 0.0460\n",
      "Epoch 25/50\n",
      "12/12 - 0s - 14ms/step - accuracy: 0.9966 - loss: 0.0446 - val_accuracy: 1.0000 - val_loss: 0.0478\n",
      "Epoch 26/50\n",
      "12/12 - 0s - 14ms/step - accuracy: 1.0000 - loss: 0.0394 - val_accuracy: 1.0000 - val_loss: 0.0384\n",
      "Epoch 27/50\n",
      "12/12 - 0s - 13ms/step - accuracy: 1.0000 - loss: 0.0338 - val_accuracy: 0.9863 - val_loss: 0.0434\n",
      "Epoch 28/50\n",
      "12/12 - 0s - 14ms/step - accuracy: 1.0000 - loss: 0.0350 - val_accuracy: 1.0000 - val_loss: 0.0281\n",
      "Epoch 29/50\n",
      "12/12 - 0s - 28ms/step - accuracy: 0.9966 - loss: 0.0353 - val_accuracy: 0.9863 - val_loss: 0.0470\n",
      "Epoch 30/50\n",
      "12/12 - 0s - 14ms/step - accuracy: 0.9966 - loss: 0.0375 - val_accuracy: 0.9863 - val_loss: 0.0504\n",
      "Epoch 31/50\n",
      "12/12 - 0s - 14ms/step - accuracy: 0.9897 - loss: 0.0639 - val_accuracy: 0.9726 - val_loss: 0.0680\n",
      "Epoch 32/50\n",
      "12/12 - 0s - 14ms/step - accuracy: 0.9829 - loss: 0.0705 - val_accuracy: 1.0000 - val_loss: 0.0347\n",
      "Epoch 33/50\n"
     ]
    }
   ],
   "source": [
    "history = model.fit(x_train, y_train, epochs=50, validation_split=0.2, batch_size=25, verbose=2)"
   ]
  },
  {
   "cell_type": "markdown",
   "id": "3cf2ea9a-631a-43a3-8973-6e1b7950c155",
   "metadata": {},
   "source": [
    "## Evaluate the model on the testing data"
   ]
  },
  {
   "cell_type": "code",
   "execution_count": null,
   "id": "07ea2171-24be-4802-ab2c-ebd8c484d107",
   "metadata": {},
   "outputs": [],
   "source": [
    "test_loss, test_acc = model.evaluate(x_test, y_test, verbose=0)\n",
    "print('Test accuracy:', test_acc)"
   ]
  },
  {
   "cell_type": "markdown",
   "id": "dee699c1-f460-4955-bcba-96bd94cbdf8d",
   "metadata": {},
   "source": [
    "## Print the loss and accuracy after each epoch during training"
   ]
  },
  {
   "cell_type": "code",
   "execution_count": null,
   "id": "8d26cec8-695c-4aca-a8bc-aefe697edd79",
   "metadata": {},
   "outputs": [],
   "source": [
    "for epoch, metrics in enumerate(history.history):\n",
    "    print('Epoch', epoch+1, metrics)"
   ]
  },
  {
   "cell_type": "markdown",
   "id": "6f9e20fd-bc59-4228-a260-fcc894791e01",
   "metadata": {},
   "source": [
    "## Checking loss per epoch"
   ]
  },
  {
   "cell_type": "code",
   "execution_count": null,
   "id": "e06722bb-9c12-49f0-9574-32142bcf23dd",
   "metadata": {},
   "outputs": [],
   "source": [
    "loss=history.history['loss']\n",
    "validation_loss=history.history['val_loss']"
   ]
  },
  {
   "cell_type": "markdown",
   "id": "04c66add-3549-4868-9324-736443f5e6ca",
   "metadata": {},
   "source": [
    "## Checking overfitting"
   ]
  },
  {
   "cell_type": "code",
   "execution_count": null,
   "id": "bfabf2f5-0b2a-4c41-9986-1e6ee3632adb",
   "metadata": {},
   "outputs": [],
   "source": [
    "plt.plot(loss)\n",
    "plt.plot(validation_loss)\n",
    "plt.show()"
   ]
  },
  {
   "cell_type": "markdown",
   "id": "9413d215-6dde-4acf-b329-b68fa503ddef",
   "metadata": {},
   "source": [
    "## Making predictions on the test set"
   ]
  },
  {
   "cell_type": "code",
   "execution_count": null,
   "id": "d45dc30d-ec48-4b36-9968-6743c59e5fbb",
   "metadata": {},
   "outputs": [],
   "source": [
    "abs_prediction = model.predict(x_test)\n",
    "prediction = (abs_predictions > 0.5).astype(\"int64\")"
   ]
  },
  {
   "cell_type": "markdown",
   "id": "f3d82ed2-fd21-4a4e-b4ef-00d5b8a2b25c",
   "metadata": {},
   "source": [
    "## Print both the actual test label and predicted value for comparison"
   ]
  },
  {
   "cell_type": "code",
   "execution_count": null,
   "id": "a3feb59e-3b38-4e67-a157-b0f80c078bef",
   "metadata": {},
   "outputs": [],
   "source": [
    "print(prediction.flatten())\n",
    "print(y_test)"
   ]
  }
 ],
 "metadata": {
  "kernelspec": {
   "display_name": "Python 3 (ipykernel)",
   "language": "python",
   "name": "python3"
  },
  "language_info": {
   "codemirror_mode": {
    "name": "ipython",
    "version": 3
   },
   "file_extension": ".py",
   "mimetype": "text/x-python",
   "name": "python",
   "nbconvert_exporter": "python",
   "pygments_lexer": "ipython3",
   "version": "3.11.7"
  }
 },
 "nbformat": 4,
 "nbformat_minor": 5
}
